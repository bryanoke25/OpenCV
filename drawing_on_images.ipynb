{
 "cells": [
  {
   "cell_type": "code",
   "execution_count": 2,
   "id": "069c720b",
   "metadata": {},
   "outputs": [],
   "source": [
    "import cv2\n",
    "import numpy as np\n",
    "\n"
   ]
  },
  {
   "cell_type": "code",
   "execution_count": 5,
   "id": "5945e265",
   "metadata": {},
   "outputs": [
    {
     "ename": "KeyboardInterrupt",
     "evalue": "",
     "output_type": "error",
     "traceback": [
      "\u001b[31m---------------------------------------------------------------------------\u001b[39m",
      "\u001b[31mKeyboardInterrupt\u001b[39m                         Traceback (most recent call last)",
      "\u001b[36mCell\u001b[39m\u001b[36m \u001b[39m\u001b[32mIn[5]\u001b[39m\u001b[32m, line 10\u001b[39m\n\u001b[32m      8\u001b[39m line = cv2.line(img1, start_point, end_point, color, thickness)\n\u001b[32m      9\u001b[39m cv2.imshow(\u001b[33m\"\u001b[39m\u001b[33mline image\u001b[39m\u001b[33m\"\u001b[39m, line)\n\u001b[32m---> \u001b[39m\u001b[32m10\u001b[39m \u001b[43mcv2\u001b[49m\u001b[43m.\u001b[49m\u001b[43mwaitKey\u001b[49m\u001b[43m(\u001b[49m\u001b[32;43m0\u001b[39;49m\u001b[43m)\u001b[49m\n\u001b[32m     11\u001b[39m cv2.destroyAllWindows()\n",
      "\u001b[31mKeyboardInterrupt\u001b[39m: "
     ]
    }
   ],
   "source": [
    "#drawing line on an image\n",
    "img1 =  cv2.imread(\"C:/Users/bryan/OneDrive/Desktop/JetLearn/OpenCV/Images/scenery1.jpg\", cv2.IMREAD_COLOR)\n",
    "start_point = (0, 0)\n",
    "end_point = (450, 450)\n",
    "color = (255, 0, 0)\n",
    "thickness = 9\n",
    "\n",
    "line = cv2.line(img1, start_point, end_point, color, thickness)\n",
    "cv2.imshow(\"line image\", line)\n",
    "cv2.waitKey(0)\n",
    "cv2.destroyAllWindows()\n"
   ]
  },
  {
   "cell_type": "code",
   "execution_count": null,
   "id": "9082604e",
   "metadata": {},
   "outputs": [],
   "source": [
    "#drawing a rectangle on the image\n",
    "img2 =  cv2.imread(\"C:/Users/bryan/OneDrive/Desktop/JetLearn/OpenCV/Images/scenery2.jpg\", cv2.IMREAD_COLOR)\n",
    "start_point = (50, 100)\n",
    "end_point = (450, 450)\n",
    "color = (255, 0, 0)\n",
    "thickness = 9\n",
    "\n",
    "rectangle = cv2.rectangle(img2, start_point, end_point, color, thickness)\n",
    "cv2.imshow(\"rectangle image\", rectangle)\n",
    "cv2.waitKey(0)\n",
    "cv2.destroyAllWindows()\n"
   ]
  },
  {
   "cell_type": "code",
   "execution_count": null,
   "id": "26ebd51b",
   "metadata": {},
   "outputs": [],
   "source": [
    "#drawing a filled rectangle\n",
    "#drawing a rectangle on the image\n",
    "img3 =  cv2.imread(\"C:/Users/bryan/OneDrive/Desktop/JetLearn/OpenCV/Images/scenery2.jpg\", cv2.IMREAD_COLOR)\n",
    "start_point = (50, 100)\n",
    "end_point = (450, 450)\n",
    "color = (0, 0, 255)\n",
    "thickness = -1\n",
    "\n",
    "rectangle = cv2.rectangle(img3, start_point, end_point, color, thickness)\n",
    "cv2.imshow(\"rectangle image\", rectangle)\n",
    "cv2.waitKey(0)\n",
    "cv2.destroyAllWindows()"
   ]
  },
  {
   "cell_type": "code",
   "execution_count": 7,
   "id": "69a51de6",
   "metadata": {},
   "outputs": [],
   "source": [
    "img4 =  cv2.imread(\"C:/Users/bryan/OneDrive/Desktop/JetLearn/OpenCV/Images/scenery2.jpg\", cv2.IMREAD_COLOR)\n",
    "center_coords = (400, 400)\n",
    "radius = 20\n",
    "color  = (0, 0, 255)\n",
    "color_2 = (255, 0, 255)\n",
    "thickness = 5\n",
    "radius_2 = radius-thickness\n",
    "thickness2 = -1\n",
    "\n",
    "circle = cv2.circle(img4, center_coords, radius, color, thickness)\n",
    "circle2 = cv2.circle(img4, center_coords, radius_2, color_2, thickness2)\n",
    "cv2.imshow(\"circle image one\", circle)\n",
    "cv2.imshow(\"circle image two\", circle2)\n",
    "cv2.waitKey(0)\n",
    "cv2.destroyAllWindows()\n"
   ]
  },
  {
   "cell_type": "code",
   "execution_count": 5,
   "id": "8d0d411a",
   "metadata": {},
   "outputs": [],
   "source": [
    "#draw an elpise\n",
    "img5 = np.zeros((500, 500, 3), dtype = np.uint8)\n",
    "center_coords = (250, 250)\n",
    "thickness = 3\n",
    "color  = (0, 0, 255)\n",
    "angle = 45\n",
    "start_angle = 0\n",
    "end_angle = 360\n",
    "axis = (150, 100)\n",
    "\n",
    "ellispse = cv2.ellipse(img5, center_coords, axis, angle, start_angle, end_angle, color, thickness)\n",
    "cv2.imshow(\"ellipse\", ellispse)\n",
    "cv2.waitKey(0)\n",
    "cv2.destroyAllWindows()"
   ]
  },
  {
   "cell_type": "code",
   "execution_count": 10,
   "id": "28897854",
   "metadata": {},
   "outputs": [],
   "source": [
    "#drawing polylines\n",
    "image = np.zeros((500, 500, 3), dtype=np.uint8)\n",
    "points = np.array([[100, 300], [200, 150], [400, 200], [400, 350], [150, 400], [300, 250]], np.int32)\n",
    "points = points.reshape((-1, 1, 2))  # Reshape for OpenCV compatibility\n",
    "isClosed = True  # True means it will draw a closed shape\n",
    "\n",
    "cv2.polylines(image, [points], isClosed, (255, 0, 0), thickness=2)  # Blue color\n",
    "\n",
    "# Display the Image\n",
    "cv2.imshow('Polylines', image)\n",
    "cv2.waitKey(0)\n",
    "cv2.destroyAllWindows()\n",
    "\n"
   ]
  },
  {
   "cell_type": "code",
   "execution_count": null,
   "id": "ba0196ca",
   "metadata": {},
   "outputs": [],
   "source": []
  },
  {
   "cell_type": "code",
   "execution_count": null,
   "id": "2f0b0f4d",
   "metadata": {},
   "outputs": [],
   "source": []
  },
  {
   "cell_type": "code",
   "execution_count": null,
   "id": "162154a7",
   "metadata": {},
   "outputs": [],
   "source": []
  },
  {
   "cell_type": "code",
   "execution_count": null,
   "id": "67cb6da0",
   "metadata": {},
   "outputs": [],
   "source": []
  },
  {
   "cell_type": "code",
   "execution_count": null,
   "id": "33f75339",
   "metadata": {},
   "outputs": [],
   "source": []
  },
  {
   "cell_type": "code",
   "execution_count": null,
   "id": "54cc4b7c",
   "metadata": {},
   "outputs": [],
   "source": []
  },
  {
   "cell_type": "code",
   "execution_count": null,
   "id": "938666bd",
   "metadata": {},
   "outputs": [],
   "source": []
  },
  {
   "cell_type": "code",
   "execution_count": null,
   "id": "55c32056",
   "metadata": {},
   "outputs": [],
   "source": []
  },
  {
   "cell_type": "code",
   "execution_count": null,
   "id": "446a320b",
   "metadata": {},
   "outputs": [],
   "source": []
  },
  {
   "cell_type": "code",
   "execution_count": null,
   "id": "b933a08f",
   "metadata": {},
   "outputs": [],
   "source": []
  }
 ],
 "metadata": {
  "kernelspec": {
   "display_name": "Python 3",
   "language": "python",
   "name": "python3"
  },
  "language_info": {
   "codemirror_mode": {
    "name": "ipython",
    "version": 3
   },
   "file_extension": ".py",
   "mimetype": "text/x-python",
   "name": "python",
   "nbconvert_exporter": "python",
   "pygments_lexer": "ipython3",
   "version": "3.12.10"
  }
 },
 "nbformat": 4,
 "nbformat_minor": 5
}
