{
 "cells": [
  {
   "cell_type": "code",
   "execution_count": 1,
   "id": "293af314",
   "metadata": {},
   "outputs": [],
   "source": [
    "import cv2\n",
    "import numpy as np "
   ]
  },
  {
   "cell_type": "code",
   "execution_count": 7,
   "id": "f63e142a",
   "metadata": {},
   "outputs": [],
   "source": [
    "img1 = cv2.imread(\"C:/Users/bryan/OneDrive/Desktop/JetLearn/OpenCV/Images/Blue_sky_bg.png\", 1)\n",
    "img2 =  cv2.imread(\"C:/Users/bryan/OneDrive/Desktop/JetLearn/OpenCV/Images/water_bg.jpg\", cv2.IMREAD_COLOR)\n",
    "\n",
    "weighted_sum = cv2.addWeighted(img1, 0.6, img2, 0.4, 0)\n",
    "cv2.imshow(\"display image\", weighted_sum)\n",
    "cv2.waitKey(0)\n",
    "cv2.destroyAllWindows()\n"
   ]
  },
  {
   "cell_type": "code",
   "execution_count": 9,
   "id": "ca7b441e",
   "metadata": {},
   "outputs": [],
   "source": [
    "#resize image\n",
    "img3 =  cv2.imread(\"C:/Users/bryan/OneDrive/Desktop/JetLearn/OpenCV/Images/scenery2.jpg\", cv2.IMREAD_COLOR)\n",
    "cv2.imshow(\"original image \", img3)\n",
    "\n",
    "resized = cv2.resize(img3, (400, 400))\n",
    "cv2.imshow(\"resized image\", resized)\n",
    "cv2.waitKey(0)\n",
    "cv2.destroyAllWindows()\n"
   ]
  },
  {
   "cell_type": "code",
   "execution_count": 11,
   "id": "8e5e5a22",
   "metadata": {},
   "outputs": [],
   "source": [
    "#bluring out of three types: gaussian blur, median blur, bilateral blur\n",
    "img4 =  cv2.imread(\"C:/Users/bryan/OneDrive/Desktop/JetLearn/OpenCV/Images/scenery1.jpg\", cv2.IMREAD_COLOR)\n",
    "cv2.imshow(\"original image \", img4)\n",
    "\n",
    "#gaussian blur - mostly used in machine learning pre-processing steps\n",
    "gaussian = cv2.GaussianBlur(img4, (7, 7), 0)\n",
    "cv2.imshow(\"Gaussian Blur\", gaussian)\n",
    "cv2.waitKey(0)\n",
    "cv2.destroyAllWindows()\n",
    "\n",
    "# median blur - used in digital processing and for removing noise\n",
    "median = cv2.medianBlur(img4, 5)\n",
    "cv2.imshow(\"median Blur\", median)\n",
    "cv2.waitKey(0)\n",
    "cv2.destroyAllWindows()\n",
    "\n",
    "# Bilateral blur - used for preserving sharp edges in images\n",
    "Bilateral = cv2.bilateralFilter(img4, 9, 75, 45)\n",
    "cv2.imshow(\"Bilateral Blur\", Bilateral)\n",
    "cv2.waitKey(0)\n",
    "cv2.destroyAllWindows()"
   ]
  },
  {
   "cell_type": "code",
   "execution_count": null,
   "id": "b3daecab",
   "metadata": {},
   "outputs": [],
   "source": []
  },
  {
   "cell_type": "code",
   "execution_count": null,
   "id": "ef438e84",
   "metadata": {},
   "outputs": [],
   "source": []
  }
 ],
 "metadata": {
  "kernelspec": {
   "display_name": "Python 3",
   "language": "python",
   "name": "python3"
  },
  "language_info": {
   "codemirror_mode": {
    "name": "ipython",
    "version": 3
   },
   "file_extension": ".py",
   "mimetype": "text/x-python",
   "name": "python",
   "nbconvert_exporter": "python",
   "pygments_lexer": "ipython3",
   "version": "3.12.10"
  }
 },
 "nbformat": 4,
 "nbformat_minor": 5
}
